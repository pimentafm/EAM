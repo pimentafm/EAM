{
 "cells": [
  {
   "cell_type": "markdown",
   "metadata": {},
   "source": [
    "# Verificar a normalidade dos dados e outliers na amostra\n",
    "   \n",
    "Considere que um operador observou 50 vezes a mesma direção.\n",
    "Essas observações são dadas a seguir (somente os segundos)."
   ]
  },
  {
   "cell_type": "code",
   "execution_count": 140,
   "metadata": {},
   "outputs": [
    {
     "name": "stdout",
     "output_type": "stream",
     "text": [
      "Média: 45.04\n",
      "Desvio Padrão:  2.10\n",
      "Limite inferior: 38.75\n",
      "Limite superior: 51.33\n"
     ]
    },
    {
     "data": {
      "image/png": "[encoded data removed]",
      "text/plain": [
       "<matplotlib.figure.Figure at 0x7f521f4450f0>"
      ]
     },
     "metadata": {},
     "output_type": "display_data"
    },
    {
     "name": "stdout",
     "output_type": "stream",
     "text": [
      "52.00 é outlier\n"
     ]
    }
   ],
   "source": [
    "#Fernando Martins Pimenta\n",
    "#Engenharia de Agrimensura e Cartográfica\n",
    "#Universidade Federal de Viçosa - MG - Brasil\n",
    "\n",
    "\"\"\"Este script mostra como utilizar a linguagem python para analisar dados\n",
    "    de forma prática para determinar os outliers de uma série de dados\"\"\"\n",
    "\n",
    "#Bibliotecas necessárias para calcular estatísticas e plotar gráficos\n",
    "import numpy\n",
    "import matplotlib.pyplot as plt\n",
    "from scipy.stats import norm\n",
    "\n",
    "#50 observações disponibilizadas nos slides da aula 1 de EAM312\n",
    "obs = [42.6, 47.2, 47.4, 44.7, 44.2, 46.3, 49.5, 46.0, 44.3, \\\n",
    "       42.8, 47.1, 44.7, 45.6, 49.5, 45.5, 43.3, 42.6, 44.3, \\\n",
    "       46.1, 45.6, 52.0, 45.5, 43.4, 42.2, 44.3, 44.1, 41.9, \\\n",
    "       46.3, 44.6, 46.1, 42.5, 45.9, 45.0, 42.0, 47.5, 43.2, \\\n",
    "       43.0, 45.7, 47.6, 45.5, 43.4, 45.5, 43.1, 46.1, 43.6, \\\n",
    "       41.8, 44.7, 46.2, 43.2, 46.8]\n",
    "\n",
    "#Ordena os dados do menor valor para o maior valor\n",
    "obs_ordenadas = sorted(obs)\n",
    "\n",
    "#Calcula a média dos dados\n",
    "media = numpy.average(obs_ordenadas)\n",
    "\n",
    "#Calcula o desvio padrão dos dados\n",
    "std = numpy.std(obs_ordenadas)\n",
    "  \n",
    "#Calcula os limites superior e inferior \n",
    "#mtplic é o multiplicador do desvio padrão\n",
    "mtplic = 3\n",
    "\n",
    "#Limites superior e inferior\n",
    "LS = media + mtplic*std\n",
    "LI = media - mtplic*std\n",
    "\n",
    "#Imprime os valores abaixo\n",
    "print('Média: %5.2f' %media)\n",
    "print('Desvio Padrão: %5.2f' %std)\n",
    "print('Limite inferior: %5.2f' %LI)\n",
    "print('Limite superior: %5.2f' %LS)\n",
    "\n",
    "#Configurações da plotagem\n",
    "fig, ax = plt.subplots()\n",
    "ax.grid(True, zorder=0.1)\n",
    "plt.axvline(media, color='r', linestyle='dashed', linewidth=2)\n",
    "plt.text(48,0.18, '$\\mu$: %5.2f \"' %media, fontsize=13, color='red')\n",
    "plt.text(48,0.16, '$\\sigma$: %5.2f \"' %std, fontsize=13, color='black')\n",
    "\n",
    "#Distribuição normal\n",
    "plt.plot(obs_ordenadas, norm.pdf(obs_ordenadas, media, std))\n",
    "\n",
    "#Plota o gráfico\n",
    "plt.show()\n",
    "\n",
    "for i in obs_ordenadas:\n",
    "    if(i >= LS or i<= LI):\n",
    "        print('%5.2f é outlier' %i)"
   ]
  }
 ],
 "metadata": {
  "kernelspec": {
   "display_name": "Python 3",
   "language": "python",
   "name": "python3"
  },
  "language_info": {
   "codemirror_mode": {
    "name": "ipython",
    "version": 3
   },
   "file_extension": ".py",
   "mimetype": "text/x-python",
   "name": "python",
   "nbconvert_exporter": "python",
   "pygments_lexer": "ipython3",
   "version": "3.5.3"
  }
 },
 "nbformat": 4,
 "nbformat_minor": 2
}
