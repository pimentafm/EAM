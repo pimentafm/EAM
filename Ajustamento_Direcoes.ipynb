{
 "cells": [
  {
   "cell_type": "markdown",
   "metadata": {},
   "source": [
    "## Introdução ao Ajustamento de Observações - Aplicações Geodésicas\n",
    "## 2ª ed. Camil Gemael, Alvaro Muriel Lima Machado e Romualdo Wandresen\n",
    "### Exercício 3.12.8  "
   ]
  },
  {
   "cell_type": "markdown",
   "metadata": {
    "collapsed": true
   },
   "source": [
    "As direções $d_{i}$ foram observadas com o mesmo desvio padrão $\\sigma = 3\"$ e sem correlação.<br><br>\n",
    "<img src=\"diagramaDirecoes.png\" align=\"left\" style=\"width:200px\"> <br><br><br><br><br><br><br><br><br><br>\n",
    "\n",
    "Calcular o coeficiente de correlação entre os ângulos $(b_{1}$ e $b_{2})$, $(b_{1}$ e $b_{3})$ e $(b_{1}$ e $b_{4})$.\n",
    "\n",
    "O modelo matemático que liga as direções aos ângulos é linear:\n",
    "\n",
    "$b_{1} = -d_{1}+d_{2}$<br>\n",
    "$b_{2} = -d_{1}+d_{3}$<br>\n",
    "$b_{3} = -d_{1}+d_{4}$<br>\n",
    "$b_{4} = -d_{3}+d_{4}$<br>\n",
    "\n",
    "Matriz Variância-Covariância\n",
    "\n",
    "$\\Sigma_{b} = G\\Sigma_{d}G^{T}$, onde $G$ é a matrix Jacobiana e $\\Sigma_{d}$ é a matrix covariância."
   ]
  },
  {
   "cell_type": "code",
   "execution_count": 48,
   "metadata": {},
   "outputs": [
    {
     "name": "stdout",
     "output_type": "stream",
     "text": [
      "[[-1  1  0  0]\n",
      " [-1  0  1  0]\n",
      " [-1  0  0  1]\n",
      " [ 0  0 -1  1]]\n"
     ]
    }
   ],
   "source": [
    "# Importa a biblioteca numpy para trabalhar com arrays e matrizes\n",
    "import numpy as np\n",
    "from math import sqrt\n",
    "\n",
    "# Matriz das derivadas das equações\n",
    "G = np.matrix([[-1, 1, 0, 0], [-1, 0, 1, 0], [-1, 0, 0, 1], [0, 0, -1, 1]])\n",
    "print(G)"
   ]
  },
  {
   "cell_type": "code",
   "execution_count": 40,
   "metadata": {},
   "outputs": [
    {
     "name": "stdout",
     "output_type": "stream",
     "text": [
      "[[3 0 0 0]\n",
      " [0 3 0 0]\n",
      " [0 0 3 0]\n",
      " [0 0 0 3]]\n"
     ]
    }
   ],
   "source": [
    "# Gera a matriz diagonal com as variâncias das observações [segundos²]\n",
    "arr = np.array([3,3,3,3])\n",
    "Sigma_d = np.diag(arr)\n",
    "print(Sigma_d)"
   ]
  },
  {
   "cell_type": "code",
   "execution_count": 44,
   "metadata": {},
   "outputs": [
    {
     "name": "stdout",
     "output_type": "stream",
     "text": [
      "[[ 6  3  3  0]\n",
      " [ 3  6  3 -3]\n",
      " [ 3  3  6  3]\n",
      " [ 0 -3  3  6]]\n"
     ]
    }
   ],
   "source": [
    "# Calcula a MVC (segundos²)\n",
    "Sigma_b = G*Sigma_d*G.T\n",
    "print(Sigma_b)"
   ]
  },
  {
   "cell_type": "markdown",
   "metadata": {
    "collapsed": true
   },
   "source": [
    "Os coeficientes de correlação podem ser obtidos pela equação abaixo:\n",
    "\n",
    "$\\rho_{ij} = \\frac{\\sigma_{ij}}{\\sigma_{i}\\sigma_{j}}$\n",
    "\n",
    "$\\rho_{12} = \\frac{\\sigma_{12}}{\\sigma_{1}\\sigma_{2}}$, $\\rho_{13} = \\frac{\\sigma_{13}}{\\sigma_{1}\\sigma_{3}}$, $\\rho_{14} = \\frac{\\sigma_{14}}{\\sigma_{1}\\sigma_{4}}$"
   ]
  },
  {
   "cell_type": "code",
   "execution_count": 65,
   "metadata": {},
   "outputs": [
    {
     "name": "stdout",
     "output_type": "stream",
     "text": [
      "Correlação(b1,b2) = 0.500\n",
      "Correlação(b1,b3) = 0.500\n",
      "Correlação(b1,b4) = 0.000\n"
     ]
    }
   ],
   "source": [
    "# Coeficiente de correlação para (b1 e b2)\n",
    "b12 = Sigma_b[0,1]/sqrt(Sigma_b[0,0]*Sigma_b[1,1])\n",
    "\n",
    "# Coeficiente de correlação para (b1 e b3)\n",
    "b13 = Sigma_b[0,2]/sqrt(Sigma_b[0,0]*Sigma_b[2,2])\n",
    "\n",
    "#Coeficiente de correlação para (b1 e b4)\n",
    "b14 = Sigma_b[0,3]/sqrt(Sigma_b[0,0]*Sigma_b[3,3])\n",
    "\n",
    "print(\"Correlação(b1,b2) = %5.3f\" %b12)\n",
    "print(\"Correlação(b1,b3) = %5.3f\" %b13)\n",
    "print(\"Correlação(b1,b4) = %5.3f\" %b14)"
   ]
  }
 ],
 "metadata": {
  "kernelspec": {
   "display_name": "Python 3",
   "language": "python",
   "name": "python3"
  },
  "language_info": {
   "codemirror_mode": {
    "name": "ipython",
    "version": 3
   },
   "file_extension": ".py",
   "mimetype": "text/x-python",
   "name": "python",
   "nbconvert_exporter": "python",
   "pygments_lexer": "ipython3",
   "version": "3.5.3"
  }
 },
 "nbformat": 4,
 "nbformat_minor": 2
}
